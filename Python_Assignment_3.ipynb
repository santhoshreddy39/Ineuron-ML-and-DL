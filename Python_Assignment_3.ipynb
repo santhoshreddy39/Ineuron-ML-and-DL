{
  "nbformat": 4,
  "nbformat_minor": 0,
  "metadata": {
    "colab": {
      "name": "Python Assignment-3.ipynb",
      "provenance": [],
      "collapsed_sections": [],
      "authorship_tag": "ABX9TyNG+8EEUToh+LuclySyYTUf",
      "include_colab_link": true
    },
    "kernelspec": {
      "name": "python3",
      "display_name": "Python 3"
    }
  },
  "cells": [
    {
      "cell_type": "markdown",
      "metadata": {
        "id": "view-in-github",
        "colab_type": "text"
      },
      "source": [
        "<a href=\"https://colab.research.google.com/github/santhoshreddy39/Ineuron-ML-DL-Solutions/blob/master/Python_Assignment_3.ipynb\" target=\"_parent\"><img src=\"https://colab.research.google.com/assets/colab-badge.svg\" alt=\"Open In Colab\"/></a>"
      ]
    },
    {
      "cell_type": "markdown",
      "metadata": {
        "id": "fjzxft9tiPgX"
      },
      "source": [
        "1.1 Write a Python Program to implement your own myreduce() function which works exactly\r\n",
        "like Python's built-in function reduce()"
      ]
    },
    {
      "cell_type": "code",
      "metadata": {
        "id": "8K1KeMeeiUYU",
        "colab": {
          "base_uri": "https://localhost:8080/"
        },
        "outputId": "647d676a-3b88-4aa4-f723-fbbc3fc37054"
      },
      "source": [
        "def myreduce(add,list):\r\n",
        "    return a\r\n",
        "def add(a,b):\r\n",
        "    return a+b\r\n",
        "list_1=[3,5,13,25,36,47]\r\n",
        "a=list_1[0]\r\n",
        "for i in range(1,len(list_1)):\r\n",
        "    b=list_1[i]\r\n",
        "    a=add(a,b)\r\n",
        "print(myreduce(add,list_1))"
      ],
      "execution_count": 2,
      "outputs": [
        {
          "output_type": "stream",
          "text": [
            "129\n"
          ],
          "name": "stdout"
        }
      ]
    },
    {
      "cell_type": "code",
      "metadata": {
        "colab": {
          "base_uri": "https://localhost:8080/"
        },
        "id": "2moQ-5IMixNa",
        "outputId": "4077ab89-bf23-4eaf-b5f5-33b6f90b0f84"
      },
      "source": [
        "# Validating our created 'myreduce' function result with Python in built function 'reduce'\r\n",
        "from functools import reduce\r\n",
        "def add(a,b):\r\n",
        "    return a+b\r\n",
        "list_2=[3,5,13,25,36,47]\r\n",
        "print(reduce(add,list_2))"
      ],
      "execution_count": 3,
      "outputs": [
        {
          "output_type": "stream",
          "text": [
            "129\n"
          ],
          "name": "stdout"
        }
      ]
    },
    {
      "cell_type": "markdown",
      "metadata": {
        "id": "LNMZRuk2i3My"
      },
      "source": [
        "Both inbuilt **reduce** function and created **myreduce** function is giving same result."
      ]
    },
    {
      "cell_type": "markdown",
      "metadata": {
        "id": "xNsR2SWrjC1r"
      },
      "source": [
        "1.2 Write a Python program to implement your own myfilter() function which works exactly\r\n",
        "like Python's built-in function filter()"
      ]
    },
    {
      "cell_type": "code",
      "metadata": {
        "colab": {
          "base_uri": "https://localhost:8080/"
        },
        "id": "OCLHZDZGjG2K",
        "outputId": "d02e71f2-1899-4465-bfb8-36b49274d363"
      },
      "source": [
        "def myfilter(is_even,list_3):\r\n",
        "    return is_even(a)\r\n",
        "list_3=[3,5,13,25,36,47,98,498,713,872]\r\n",
        "list_4=[]\r\n",
        "def is_even(a):\r\n",
        "    for i in list_3:\r\n",
        "        if i%2==0:\r\n",
        "            list_4.append(i)\r\n",
        "    print(list_4)\r\n",
        "myfilter(is_even,list_3)"
      ],
      "execution_count": 5,
      "outputs": [
        {
          "output_type": "stream",
          "text": [
            "[36, 98, 498, 872]\n"
          ],
          "name": "stdout"
        }
      ]
    },
    {
      "cell_type": "code",
      "metadata": {
        "colab": {
          "base_uri": "https://localhost:8080/"
        },
        "id": "lEkRJs_9jPr6",
        "outputId": "d482e3ba-5fee-46cd-889f-382f510de1a0"
      },
      "source": [
        "# Validating our created 'myfilter' function result with Python in built function 'filter'\r\n",
        "def is_even(num):\r\n",
        "    if num%2==0:\r\n",
        "        return True\r\n",
        "list_5=[3,5,13,25,36,47,98,498,713,872]\r\n",
        "print(list(filter(is_even,list_5)))"
      ],
      "execution_count": 6,
      "outputs": [
        {
          "output_type": "stream",
          "text": [
            "[36, 98, 498, 872]\n"
          ],
          "name": "stdout"
        }
      ]
    },
    {
      "cell_type": "markdown",
      "metadata": {
        "id": "QGe3_mC5jPuq"
      },
      "source": [
        "Both inbuilt function **filter** and created **myfilter** function is giving same result."
      ]
    },
    {
      "cell_type": "markdown",
      "metadata": {
        "id": "pEs2GpwVjPx0"
      },
      "source": [
        "2. Implement List comprehensions to produce the following lists. Write List comprehensions to produce the following Lists"
      ]
    },
    {
      "cell_type": "code",
      "metadata": {
        "colab": {
          "base_uri": "https://localhost:8080/"
        },
        "id": "YgoqYtMojP09",
        "outputId": "daff2a9d-e1c4-446f-de66-a2db0b216ab8"
      },
      "source": [
        "list1=['x','y','z']\r\n",
        "result1=[i*j for i in list1 for j in range(1,5)]\r\n",
        "print(result1)"
      ],
      "execution_count": 7,
      "outputs": [
        {
          "output_type": "stream",
          "text": [
            "['x', 'xx', 'xxx', 'xxxx', 'y', 'yy', 'yyy', 'yyyy', 'z', 'zz', 'zzz', 'zzzz']\n"
          ],
          "name": "stdout"
        }
      ]
    },
    {
      "cell_type": "code",
      "metadata": {
        "colab": {
          "base_uri": "https://localhost:8080/"
        },
        "id": "LWsirJOrjP4C",
        "outputId": "0bea3f76-67bf-461e-dbcb-03a023ad16eb"
      },
      "source": [
        "list2=['x','y','z']\r\n",
        "result2=[i*j for i in range(1,5) for j in list2]\r\n",
        "print(result2)"
      ],
      "execution_count": 8,
      "outputs": [
        {
          "output_type": "stream",
          "text": [
            "['x', 'y', 'z', 'xx', 'yy', 'zz', 'xxx', 'yyy', 'zzz', 'xxxx', 'yyyy', 'zzzz']\n"
          ],
          "name": "stdout"
        }
      ]
    },
    {
      "cell_type": "code",
      "metadata": {
        "colab": {
          "base_uri": "https://localhost:8080/"
        },
        "id": "TRfoQjpejP68",
        "outputId": "176a14b1-c405-467a-802b-c9f3218b6925"
      },
      "source": [
        "result3=[[a+b] for a in range(2,5) for b in range(3)]\r\n",
        "print(result3)"
      ],
      "execution_count": 9,
      "outputs": [
        {
          "output_type": "stream",
          "text": [
            "[[2], [3], [4], [3], [4], [5], [4], [5], [6]]\n"
          ],
          "name": "stdout"
        }
      ]
    },
    {
      "cell_type": "code",
      "metadata": {
        "colab": {
          "base_uri": "https://localhost:8080/"
        },
        "id": "kZgOG4wHjP99",
        "outputId": "f4d4d862-8bd8-485a-e33f-4c54417a02d4"
      },
      "source": [
        "result4=[[a+b for b in range(2,6)] for a in range(4)]\r\n",
        "print(result4)"
      ],
      "execution_count": 10,
      "outputs": [
        {
          "output_type": "stream",
          "text": [
            "[[2, 3, 4, 5], [3, 4, 5, 6], [4, 5, 6, 7], [5, 6, 7, 8]]\n"
          ],
          "name": "stdout"
        }
      ]
    },
    {
      "cell_type": "code",
      "metadata": {
        "colab": {
          "base_uri": "https://localhost:8080/"
        },
        "id": "BZgOwlOxjQBF",
        "outputId": "117be5ab-b9cc-475b-df77-e665aa8a20f4"
      },
      "source": [
        "result5=[(a,b) for b in range(1,4) for a in range(1,4)]\r\n",
        "print(result5)"
      ],
      "execution_count": 11,
      "outputs": [
        {
          "output_type": "stream",
          "text": [
            "[(1, 1), (2, 1), (3, 1), (1, 2), (2, 2), (3, 2), (1, 3), (2, 3), (3, 3)]\n"
          ],
          "name": "stdout"
        }
      ]
    }
  ]
}