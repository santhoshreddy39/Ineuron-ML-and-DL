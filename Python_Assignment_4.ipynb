{
  "nbformat": 4,
  "nbformat_minor": 0,
  "metadata": {
    "colab": {
      "name": "Python Assignment-4.ipynb",
      "provenance": [],
      "collapsed_sections": [],
      "authorship_tag": "ABX9TyNLFcFwIh2R/WOkNLVewzkF",
      "include_colab_link": true
    },
    "kernelspec": {
      "name": "python3",
      "display_name": "Python 3"
    }
  },
  "cells": [
    {
      "cell_type": "markdown",
      "metadata": {
        "id": "view-in-github",
        "colab_type": "text"
      },
      "source": [
        "<a href=\"https://colab.research.google.com/github/santhoshreddy39/Ineuron-ML-DL-Solutions/blob/master/Python_Assignment_4.ipynb\" target=\"_parent\"><img src=\"https://colab.research.google.com/assets/colab-badge.svg\" alt=\"Open In Colab\"/></a>"
      ]
    },
    {
      "cell_type": "markdown",
      "metadata": {
        "id": "Pw72WJ87akoO"
      },
      "source": [
        "1.1 Write a Python Program(with class concepts) to find the area of the triangle using the below\r\n",
        "formula.\r\n",
        "- area = (s*(s-a)*(s-b)*(s-c)) ** 0.5\r\n",
        "- Function to take the length of the sides of triangle from user should be defined in the parent\r\n",
        "class and function to calculate the area should be defined in subclass."
      ]
    },
    {
      "cell_type": "code",
      "metadata": {
        "colab": {
          "base_uri": "https://localhost:8080/"
        },
        "id": "uCplmHcmasLR",
        "outputId": "48e92d83-1c75-46de-c4c7-3087c46c3c88"
      },
      "source": [
        "# Creating parent class for taking input from the user\r\n",
        "class Triangle: \r\n",
        "    def __init__(self):\r\n",
        "        self.a=float(input(\"Enter side a:\"))\r\n",
        "        self.b=float(input(\"Enter side b:\"))\r\n",
        "        self.c=float(input(\"Enter side c:\"))\r\n",
        "\r\n",
        "# Creating sub class for calculating area of the triangle\r\n",
        "class Area(Triangle):\r\n",
        "    def area(self):\r\n",
        "        s=(self.a+self.b+self.c)/2\r\n",
        "        area=(s*(s-self.a)*(s-self.b)*(s-self.c))**0.5\r\n",
        "        print(\"Area of triangle is:\",round(area,3),'cm^2')\r\n",
        "Area().area()"
      ],
      "execution_count": 1,
      "outputs": [
        {
          "output_type": "stream",
          "text": [
            "Enter side a:7\n",
            "Enter side b:10\n",
            "Enter side c:12\n",
            "Area of triangle is: 34.978 cm^2\n"
          ],
          "name": "stdout"
        }
      ]
    },
    {
      "cell_type": "markdown",
      "metadata": {
        "id": "QWzx6Qsua8_J"
      },
      "source": [
        "1.2 Write a function filter_long_words() that takes a list of words and an integer n and returns\r\n",
        "the list of words that are longer than n."
      ]
    },
    {
      "cell_type": "code",
      "metadata": {
        "colab": {
          "base_uri": "https://localhost:8080/"
        },
        "id": "FuoE2-Ica9DB",
        "outputId": "d3d26233-e914-4b93-b12b-05ac20852685"
      },
      "source": [
        "def filter_long_words(list_words,n):\r\n",
        "    output=[]\r\n",
        "    for i in list_words:\r\n",
        "        if len(i)>n:\r\n",
        "            output.append(i)\r\n",
        "    print(\"Longest words are:\",output)\r\n",
        "filter_long_words(['I','we','apple','banana','game','importing','my','cab'],3)"
      ],
      "execution_count": 2,
      "outputs": [
        {
          "output_type": "stream",
          "text": [
            "Longest words are: ['apple', 'banana', 'game', 'importing']\n"
          ],
          "name": "stdout"
        }
      ]
    },
    {
      "cell_type": "markdown",
      "metadata": {
        "id": "y33LP5bfa9GS"
      },
      "source": [
        "2.1 Write a Python program using function concept that maps list of words into a list of integers\r\n",
        "representing the lengths of the corresponding words."
      ]
    },
    {
      "cell_type": "code",
      "metadata": {
        "colab": {
          "base_uri": "https://localhost:8080/"
        },
        "id": "yiXSvU3La9JQ",
        "outputId": "47930c14-c4f9-4bc7-b753-6235790bebf6"
      },
      "source": [
        "def len_word(list):\r\n",
        "    result=[]\r\n",
        "    for i in list:\r\n",
        "        result.append(len(i))\r\n",
        "    print(result)\r\n",
        "len_word(['abcd','cdeghi','ertyk'])"
      ],
      "execution_count": 3,
      "outputs": [
        {
          "output_type": "stream",
          "text": [
            "[4, 6, 5]\n"
          ],
          "name": "stdout"
        }
      ]
    },
    {
      "cell_type": "markdown",
      "metadata": {
        "id": "19xZEfiZa9L8"
      },
      "source": [
        "2.2 Write a Python function which takes a character (i.e. a string of length 1) and returns True if\r\n",
        "it is a vowel, False otherwise."
      ]
    },
    {
      "cell_type": "code",
      "metadata": {
        "colab": {
          "base_uri": "https://localhost:8080/"
        },
        "id": "oym525rJa9O5",
        "outputId": "8a9b0231-6ec2-4c4b-ab82-e7c56fea6018"
      },
      "source": [
        "def is_vowel(char):\r\n",
        "    if char=='a' or char=='e' or char=='i' or char=='o'or char=='u':\r\n",
        "        return True\r\n",
        "    else:\r\n",
        "        return False\r\n",
        "is_vowel(input('Enter character in small case:'))"
      ],
      "execution_count": 4,
      "outputs": [
        {
          "output_type": "stream",
          "text": [
            "Enter character in small case:i\n"
          ],
          "name": "stdout"
        },
        {
          "output_type": "execute_result",
          "data": {
            "text/plain": [
              "True"
            ]
          },
          "metadata": {
            "tags": []
          },
          "execution_count": 4
        }
      ]
    },
    {
      "cell_type": "code",
      "metadata": {
        "id": "Y68GEPXVa9Rs"
      },
      "source": [
        ""
      ],
      "execution_count": null,
      "outputs": []
    }
  ]
}