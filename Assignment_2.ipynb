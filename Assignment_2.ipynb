{
  "nbformat": 4,
  "nbformat_minor": 0,
  "metadata": {
    "colab": {
      "name": "Assignment-2.ipynb",
      "provenance": [],
      "collapsed_sections": [],
      "authorship_tag": "ABX9TyM4xBaR4Z7l157v48ZMvp5r",
      "include_colab_link": true
    },
    "kernelspec": {
      "name": "python3",
      "display_name": "Python 3"
    }
  },
  "cells": [
    {
      "cell_type": "markdown",
      "metadata": {
        "id": "view-in-github",
        "colab_type": "text"
      },
      "source": [
        "<a href=\"https://colab.research.google.com/github/santhoshreddy39/hello-World/blob/master/Assignment_2.ipynb\" target=\"_parent\"><img src=\"https://colab.research.google.com/assets/colab-badge.svg\" alt=\"Open In Colab\"/></a>"
      ]
    },
    {
      "cell_type": "markdown",
      "metadata": {
        "id": "7_OGfi8qsGHN"
      },
      "source": [
        "Python assignment-2"
      ]
    },
    {
      "cell_type": "markdown",
      "metadata": {
        "id": "o1mFOLHIrwjk"
      },
      "source": [
        "Question:1"
      ]
    },
    {
      "cell_type": "code",
      "metadata": {
        "id": "UIEETVxFsWLs",
        "colab": {
          "base_uri": "https://localhost:8080/",
          "height": 185
        },
        "outputId": "8b0122f2-37df-4916-ea2e-6d7ac4aa961a"
      },
      "source": [
        "for i in range(0,5):\n",
        "    for j in range(i+1):  \n",
        "        print('*',end=' ')\n",
        "    print()\n",
        "    \n",
        "for i in range(0,5):\n",
        "    for j in range(5-i-1):\n",
        "        print('*',end=' ')\n",
        "    print()"
      ],
      "execution_count": null,
      "outputs": [
        {
          "output_type": "stream",
          "text": [
            "* \n",
            "* * \n",
            "* * * \n",
            "* * * * \n",
            "* * * * * \n",
            "* * * * \n",
            "* * * \n",
            "* * \n",
            "* \n",
            "\n"
          ],
          "name": "stdout"
        }
      ]
    },
    {
      "cell_type": "markdown",
      "metadata": {
        "id": "fnay_1KoskfU"
      },
      "source": [
        "Question:2"
      ]
    },
    {
      "cell_type": "code",
      "metadata": {
        "id": "DLXeYNXlsnE8",
        "colab": {
          "base_uri": "https://localhost:8080/",
          "height": 52
        },
        "outputId": "c1cf7bad-30f5-4b94-ae77-70f4cba7bbad"
      },
      "source": [
        "word=input('Enter the word:')\n",
        "new_word=word[::-1]\n",
        "new_word"
      ],
      "execution_count": null,
      "outputs": [
        {
          "output_type": "stream",
          "text": [
            "Enter the word:ineuron\n"
          ],
          "name": "stdout"
        },
        {
          "output_type": "execute_result",
          "data": {
            "application/vnd.google.colaboratory.intrinsic+json": {
              "type": "string"
            },
            "text/plain": [
              "'norueni'"
            ]
          },
          "metadata": {
            "tags": []
          },
          "execution_count": 3
        }
      ]
    }
  ]
}